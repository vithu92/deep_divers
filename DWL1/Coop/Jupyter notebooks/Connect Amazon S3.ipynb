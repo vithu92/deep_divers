{
 "cells": [
  {
   "cell_type": "code",
   "execution_count": 1,
   "id": "512bbbf3-d532-4216-b960-b097a4a796ef",
   "metadata": {},
   "outputs": [],
   "source": [
    "import boto3\n",
    "import sys\n",
    "import os\n",
    "import pandas as pd\n",
    "import csv\n",
    "import io\n",
    "import json\n",
    "from datetime import datetime\n",
    "import logging\n",
    "from boto3.resources.factory import ServiceResource\n",
    "import glob"
   ]
  },
  {
   "cell_type": "code",
   "execution_count": 2,
   "id": "1bbb3731-e4c2-4feb-8fb8-6dd0a1fe0a3a",
   "metadata": {},
   "outputs": [],
   "source": [
    "def load_config(path) -> list:\n",
    "    try:\n",
    "        with open(path, \"r\") as json_file:\n",
    "            url_list = json.load(json_file)\n",
    "    except Exception as e:\n",
    "        logging.error(f\"Could not find or read {path}\")\n",
    "        logging.error(e)\n",
    "    return url_list"
   ]
  },
  {
   "cell_type": "code",
   "execution_count": 3,
   "id": "e0853b20-c400-4bcd-816c-764cef1d6c49",
   "metadata": {},
   "outputs": [],
   "source": [
    "def csv_files()->list:\n",
    "    today = datetime.now()\n",
    "    month = today.strftime(\"%m\")\n",
    "    day = today.strftime(\"%d\")\n",
    "    directory_path = f\"./exports/{today.year}_{month}_{day}\"\n",
    "    return glob.glob(f'{directory_path}/*.csv')"
   ]
  },
  {
   "cell_type": "code",
   "execution_count": 4,
   "id": "4d60ebc2-a7d9-49d2-b83d-ac4f7fd759c7",
   "metadata": {},
   "outputs": [],
   "source": [
    "def create_folder_on_S3(bucket_object, bucket_name:str)-> str:\n",
    "    today = datetime.now()\n",
    "    month = today.strftime(\"%m\")\n",
    "    day = today.strftime(\"%d\")\n",
    "    folder_name = f\"{today.year}_{month}_{day}\"\n",
    "    try:\n",
    "        bucket_object.put_object(Bucket=bucket_name, Key=(folder_name+'/'))\n",
    "        return folder_name\n",
    "    except Exception as e:\n",
    "        logging.error(\"Something went wrong while creating folder on S3\")\n",
    "        logging.error(e)"
   ]
  },
  {
   "cell_type": "code",
   "execution_count": 5,
   "id": "85f91651-a485-480b-a3fe-05095c608929",
   "metadata": {},
   "outputs": [],
   "source": [
    "def create_s3_connection(creds:dict, bucket_name:str)-> ServiceResource:\n",
    "    s3_client =boto3.client('s3')\n",
    "    s3_bucket_name=f'{bucket_name}'\n",
    "    s3 = boto3.resource('s3',\n",
    "                    aws_access_key_id= creds['aws_access_key_id'],\n",
    "                    aws_secret_access_key= creds['aws_secret_access_key'],\n",
    "                    aws_session_token= creds['aws_session_token'])\n",
    "    return s3"
   ]
  },
  {
   "cell_type": "code",
   "execution_count": 6,
   "id": "285d80f0-cce5-48f9-8e9b-df51c3a0faca",
   "metadata": {},
   "outputs": [
    {
     "name": "stdout",
     "output_type": "stream",
     "text": [
      "uploading ./2022_04_03\\2022_04_03_bakery.csv to bucket\n",
      "uploading ./2022_04_03\\2022_04_03_baking-ingredients.csv to bucket\n",
      "uploading ./2022_04_03\\2022_04_03_beer.csv to bucket\n",
      "uploading ./2022_04_03\\2022_04_03_breaded-ready-to-cook.csv to bucket\n",
      "uploading ./2022_04_03\\2022_04_03_butter-margarine.csv to bucket\n",
      "uploading ./2022_04_03\\2022_04_03_cabbage.csv to bucket\n",
      "uploading ./2022_04_03\\2022_04_03_canned-conserved.csv to bucket\n",
      "uploading ./2022_04_03\\2022_04_03_cheese-counter.csv to bucket\n",
      "uploading ./2022_04_03\\2022_04_03_chocolate-confectionery.csv to bucket\n",
      "uploading ./2022_04_03\\2022_04_03_coffee.csv to bucket\n",
      "uploading ./2022_04_03\\2022_04_03_cold-cuts-sausage-products.csv to bucket\n",
      "uploading ./2022_04_03\\2022_04_03_conserved-ready-made-meals.csv to bucket\n",
      "uploading ./2022_04_03\\2022_04_03_cookies-sweet-biscuits.csv to bucket\n",
      "uploading ./2022_04_03\\2022_04_03_crackers-crispbreads.csv to bucket\n",
      "uploading ./2022_04_03\\2022_04_03_cream.csv to bucket\n",
      "uploading ./2022_04_03\\2022_04_03_crisps-snacks.csv to bucket\n",
      "uploading ./2022_04_03\\2022_04_03_dough-cake-base.csv to bucket\n",
      "uploading ./2022_04_03\\2022_04_03_dressings-cold-sauces.csv to bucket\n",
      "uploading ./2022_04_03\\2022_04_03_eggs.csv to bucket\n",
      "uploading ./2022_04_03\\2022_04_03_frozen-milk-drinks.csv to bucket\n",
      "uploading ./2022_04_03\\2022_04_03_fruit-vegetable-juices.csv to bucket\n",
      "uploading ./2022_04_03\\2022_04_03_fruit.csv to bucket\n",
      "uploading ./2022_04_03\\2022_04_03_fruits-vegetables.csv to bucket\n",
      "uploading ./2022_04_03\\2022_04_03_herbs-spices.csv to bucket\n",
      "uploading ./2022_04_03\\2022_04_03_hot-drinks.csv to bucket\n",
      "uploading ./2022_04_03\\2022_04_03_ice-cream-desserts.csv to bucket\n",
      "uploading ./2022_04_03\\2022_04_03_meat-fish.csv to bucket\n",
      "uploading ./2022_04_03\\2022_04_03_mineral-water.csv to bucket\n",
      "uploading ./2022_04_03\\2022_04_03_more-vegetables.csv to bucket\n",
      "uploading ./2022_04_03\\2022_04_03_muesli-cereals.csv to bucket\n",
      "uploading ./2022_04_03\\2022_04_03_packaged-fish.csv to bucket\n",
      "uploading ./2022_04_03\\2022_04_03_packaged-fresh-meat.csv to bucket\n",
      "uploading ./2022_04_03\\2022_04_03_pasta-warm-sauces.csv to bucket\n",
      "uploading ./2022_04_03\\2022_04_03_quark.csv to bucket\n",
      "uploading ./2022_04_03\\2022_04_03_ready-made-products.csv to bucket\n",
      "uploading ./2022_04_03\\2022_04_03_root-vegetables.csv to bucket\n",
      "uploading ./2022_04_03\\2022_04_03_salad-vegetables.csv to bucket\n",
      "uploading ./2022_04_03\\2022_04_03_salads.csv to bucket\n",
      "uploading ./2022_04_03\\2022_04_03_seafood-market.csv to bucket\n",
      "uploading ./2022_04_03\\2022_04_03_soft-drinks.csv to bucket\n",
      "uploading ./2022_04_03\\2022_04_03_soups.csv to bucket\n",
      "uploading ./2022_04_03\\2022_04_03_spreads.csv to bucket\n",
      "uploading ./2022_04_03\\2022_04_03_staples.csv to bucket\n",
      "uploading ./2022_04_03\\2022_04_03_stocks-spices.csv to bucket\n",
      "uploading ./2022_04_03\\2022_04_03_vinegars-oils.csv to bucket\n",
      "uploading ./2022_04_03\\2022_04_03_yogurt.csv to bucket\n",
      "uploading ./2022_04_03\\2022_04_03_your-butcher-shop.csv to bucket\n"
     ]
    }
   ],
   "source": [
    "credentials = load_config(\"./credentials.json\")\n",
    "bucket_name = \"coop.product\"\n",
    "s3 = create_s3_connection(creds=credentials, bucket_name=bucket_name)\n",
    "my_bucket=s3.Bucket(bucket_name)\n",
    "\n",
    "# Create Foldeer on S3 Bucket\n",
    "try:\n",
    "    folder_name = create_folder_on_S3(bucket_object=my_bucket, bucket_name=bucket_name)\n",
    "except Exception as e:\n",
    "    print(e)\n",
    "\n",
    "# Retrieving local csv files \n",
    "csv_list = csv_files()\n",
    "\n",
    "for csv in csv_list:\n",
    "    print(f\"uploading {csv} to bucket\")\n",
    "    csv_name = csv.split(\"\\\\\")[-1]\n",
    "    my_bucket.upload_file(os.path.abspath(csv),f\"{folder_name}/{csv_name}\")\n"
   ]
  },
  {
   "cell_type": "code",
   "execution_count": 8,
   "id": "bf387bc7-1d20-4a16-930e-7fb69e0cc51f",
   "metadata": {},
   "outputs": [],
   "source": [
    "import pandas as pd\n",
    "df = pd.read_csv(\"./exports/2022_04_03/2022_04_03_bakery.csv\")"
   ]
  },
  {
   "cell_type": "code",
   "execution_count": 9,
   "id": "42540f38-8ee1-4545-9455-b6adeb012ac0",
   "metadata": {},
   "outputs": [
    {
     "data": {
      "text/plain": [
       "(33, 10)"
      ]
     },
     "execution_count": 9,
     "metadata": {},
     "output_type": "execute_result"
    }
   ],
   "source": [
    "df.shape"
   ]
  },
  {
   "cell_type": "code",
   "execution_count": 10,
   "id": "db704e4a-962d-49b2-9bb1-f3b45ab68b8a",
   "metadata": {},
   "outputs": [
    {
     "data": {
      "text/plain": [
       "33"
      ]
     },
     "execution_count": 10,
     "metadata": {},
     "output_type": "execute_result"
    }
   ],
   "source": [
    "df.shape[0]"
   ]
  },
  {
   "cell_type": "code",
   "execution_count": null,
   "id": "0524edd4-13a4-4ce4-a639-c6090275b4a7",
   "metadata": {},
   "outputs": [],
   "source": []
  }
 ],
 "metadata": {
  "kernelspec": {
   "display_name": "Python 3 (ipykernel)",
   "language": "python",
   "name": "python3"
  },
  "language_info": {
   "codemirror_mode": {
    "name": "ipython",
    "version": 3
   },
   "file_extension": ".py",
   "mimetype": "text/x-python",
   "name": "python",
   "nbconvert_exporter": "python",
   "pygments_lexer": "ipython3",
   "version": "3.9.7"
  }
 },
 "nbformat": 4,
 "nbformat_minor": 5
}
