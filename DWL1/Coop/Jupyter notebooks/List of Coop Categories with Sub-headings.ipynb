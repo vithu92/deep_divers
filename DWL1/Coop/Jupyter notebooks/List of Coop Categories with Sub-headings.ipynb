{
 "cells": [
  {
   "cell_type": "code",
   "execution_count": null,
   "metadata": {},
   "outputs": [],
   "source": [
    "# List of Coop category 'Specific Diets'\n",
    "organic = ['Fruits', 'Vegetables','Dairy Products', 'Eggs', 'Meat', 'Fish', 'Bread', 'Baked Goods', 'Sweets', 'Snacks', 'Freezer', 'Ready-Made Meals', 'Drinks']\n",
    "oranic = ['Plant based alternatives to meat','Sweets', 'Snacks', 'Freezer', 'Ready-Made Meals']\n",
    "vegan = ['Alternatives to meat', 'Dairy Products', 'Bread', 'Baked Goods', 'Sweets', 'Snacks', 'Freezer', 'Ready-Made Meals', 'Drinks']\n",
    "lactose_free = ['Dairy Products', 'Meat', 'Bread', 'Baked Goods', 'Sweets', 'Snacks', 'Freezer', 'Ready-Made Meals', 'Drinks']\n",
    "gluten_free = ['Dairy Products', 'Meat', 'Bread', 'Baked Goods', 'Sweets', 'Snacks', 'Freezer', 'Ready-Made Meals', 'Drinks']\n",
    "\n",
    "# Gathering all headings\n",
    "# Strings in the list indicates the eadings with no sub entries\n",
    "specific_diets = [organic, 'High Protein', 'Low Fat', 'No Added Sugar', oranic, 'Karma', vegan, lactose_free, gluten_free]"
   ]
  },
  {
   "cell_type": "code",
   "execution_count": null,
   "metadata": {},
   "outputs": [],
   "source": [
    "# List of Coop category 'Fruits & Vegetables'\n",
    "fruit = ['Apples', 'Pears', 'Grapes', 'Berries', 'More Garden Fruit', 'Bananas', 'Kiwi', 'Melons', 'Pineapple','Mangoes', 'Citrus Fruit', 'More Exotic Fruit']\n",
    "salads = ['Leaf Lettuce', 'Pre-Packaged Fresh Salads']\n",
    "salad_vegetables = ['Tomatoes', 'Radishes', 'Cucumbers', 'Peppers', 'Avocadoes']\n",
    "root_vegetables = ['Potatoes', 'Carrots', 'Parsnips', 'Celeriac', 'Kohlrabi', 'Beetroots', 'Cassava']\n",
    "cabbage = ['Broccoli', 'Cauliflower', 'Brussel Sprouts', 'Cabbage', 'Sauerkraut', 'Red Cabbage']\n",
    "more_veg = ['Courgettes', 'Pumpkin', 'Aubergines', 'Sweetcorn', 'Peas', 'Beans', 'Leek', 'Fennel', 'Leaf Vegetables', 'Artichokes', 'Mushrooms', 'Asparagus', 'Prepared Vegetables']\n",
    "herbs_sprices = ['Onions', 'Garlic', 'Fresh Herbs', 'Sprouts', 'Watercress', 'Chilli', 'Lemongrass', 'Ginger']\n",
    "\n",
    "# Gathering all headings\n",
    "# Strings in the list indicates the eadings with no sub entries\n",
    "fruits_vegetables = ['Special Offers', 'Organic Fruit & Vegetable', fruit, 'Nuts, dates and figs', salads, salad_vegetables, 'Fruit & Vegetable Baskets', root_vegetables, cabbage, 'Plant based alternatives to meat', more_veg, herbs_sprices]"
   ]
  },
  {
   "cell_type": "code",
   "execution_count": null,
   "metadata": {},
   "outputs": [],
   "source": [
    "# List of Coop category 'Dairy Products & Eggs'\n",
    "cheese_counter = ['Semi-hard Cheese', 'Raclette', 'Fondue', 'Hard Cheese', 'Soft Cheese']\n",
    "packaged_cheese = ['Fresh Cheese', 'Mozzarella', 'Soft Cheese', 'Hard & Semi-Hard Cheese', 'Sheep Cheese', 'Goat Cheese', 'Feta Cheese', 'Raclette', 'Fondue', 'Grated Cheese', 'Cheese Snacks', 'Appetizers']\n",
    "milk = ['Fresh Milk' , 'UHT Milk', 'Milk Specialities', 'Frozen milk drinks']\n",
    "cream = ['Full-Fat Cream', 'Half-Fat Cream', 'Coffee Cream', 'Whipped Cream', 'Cream Specialities']\n",
    "butter_margarine = ['Unsalted Butter', 'Margarine', 'Seasoned Butter', 'Cooking Butter', 'Cooking Fat']\n",
    "yogurt = ['Natural Yogurt', 'Flavoured Yogurt', 'Special Yogurt', 'Muesli']\n",
    "quark = ['Flavoured Quark', 'Natural Quark']\n",
    "desserts_cream = ['Cream', 'Mousse', 'Pudding', 'Flan', 'Rice Pudding', 'Semolina', 'Milk Snacks', 'Special Desserts']\n",
    "frozen_milk_drinks = ['Coffee Drinks', 'Chai Latte', 'Chocolate Milk Drinks', 'Milkshakes', 'Lassi', 'Yogurt Drinks', 'Buttermilk', 'Probiotic Drinks']\n",
    "eggs = ['Raw Eggs', 'Hard-Boiled Eggs', 'Coloured eggs']\n",
    "\n",
    "# Gathering all headings\n",
    "# Strings in the list indicates the eadings with no sub entries\n",
    "dairy_products_eggs = ['Special Offers', cheese_counter, packaged_cheese, milk, cream, butter_margarine, yogurt, quark, desserts_cream, 'Organic Dairy Products', 'Vegan Alternatives to Dairy Products', 'Lactose-free Dairy Products', 'Gluten-free Dairy Products', frozen_milk_drinks, eggs]"
   ]
  },
  {
   "cell_type": "code",
   "execution_count": null,
   "metadata": {},
   "outputs": [],
   "source": [
    "# List of Coop category 'Meat & Fish'\n",
    "packaged_fresh_meat = ['Game', 'Poultry', 'Pork', 'Veal', 'Beef', 'Lamb', 'Goat', 'Ground Meat', 'Pork Products', 'Offal']\n",
    "butcher_shop = ['Pork', 'Veal', 'Beef', 'Lamb', 'Chicken', 'Dry-aged Beef', 'Marinades']\n",
    "breaded_readytocook = ['Meat', 'Fish', 'Plant based alternatives to meat']\n",
    "seafood_market = ['Fresh Fish', 'Seafood']\n",
    "packaged_fish = ['Packaged Fresh Fish', 'Smoked Fish', 'Shellfish', 'Seafood', 'Fish Specialities', 'Roe']\n",
    "coldcuts_sausagepro = ['Sausages', 'Bacon', 'Diced Ham', 'Ham', 'Cold Cuts', 'Dried Meat', 'Salami', 'Pates', 'Terrines', 'Sausage Spread', 'Snacks', 'Appetizers']\n",
    "\n",
    "# Gathering all headings\n",
    "# Strings in the list indicates the eadings with no sub entries\n",
    "meat_fish = ['Special Offers', packaged_fresh_meat, 'Demeter organic Meat Packets', 'Pro Montagna Organic Gitzi Meat Packets', butcher_shop, breaded_readytocook, 'Insects', seafood_market, packaged_fish , 'Organic Meat & Fish', 'Meat & Fish Lactose-free', 'Gluten-free Meat & Fish', coldcuts_sausagepro]"
   ]
  },
  {
   "cell_type": "code",
   "execution_count": null,
   "metadata": {},
   "outputs": [],
   "source": [
    "# List of Coop category 'Bread & Baked Goods'\n",
    "dough_cakebase = ['Cake dough', 'Puff pastry', 'Pizza dough', 'Pasta dough', 'Cake bases', 'Tarts']\n",
    "bakery = ['Bread', 'Small Rolls', 'Tresse']\n",
    "double_breads = ['Ready-to-Bake Breads', 'Toasting Breads', 'Buns', 'Durable Breads', 'Flatbread', 'Tortillas']\n",
    "crackers_crispbreads = ['Crackers', 'Melba Toast', 'Rice Cakes', 'Crispbreads', 'Criprolls']\n",
    "cakes_sweetpastries = ['Cakes', 'Tarts', 'Sweet Bread Rolls', 'Panettone']\n",
    "\n",
    "# Gathering all headings\n",
    "# Strings in the list indicates the eadings with no sub entries\n",
    "bread_bakedgoods = ['Special Offers', dough_cakebase, bakery, double_breads, crackers_crispbreads, cakes_sweetpastries, 'Organic Bread & Baked Goods', 'Vegan Bread & Baked Goods', 'Lactose-free Bread & Baked Goods', 'Gluten-free Bread & Baked Goods']"
   ]
  },
  {
   "cell_type": "code",
   "execution_count": null,
   "metadata": {},
   "outputs": [],
   "source": [
    "# List of Coop category 'Inventories'\n",
    "staples = ['Flour', 'Sugar', 'Pasta', 'Rice', 'Potato Products','Grains', 'Corn', 'Semolina', 'Breadcrumbs', 'Sauce Thickener']\n",
    "baking_ing = ['Baking Mixes', 'Classic Baking Ingredients', 'Decorations', 'Dessert Mixes']\n",
    "vinegars_oils = ['Vinegars', 'Oil']\n",
    "stocks_spices = ['Bouillons', 'Stocks', 'Salt', 'Pepper', 'Seasoning', 'Dried Herbs', 'Liquid Seasoning', 'Pastes', 'Soup & Salad Garnishes']\n",
    "pasta_warmsauces = ['Pesto', 'Pasta Sauces', 'Curry Sauces', 'Sauces Mixes', 'Tomato Paste', 'Gravy']\n",
    "dressings_coldsauces = ['Salad Dressing', 'Cold Sauces', 'Mustard', 'Mayonnaise', 'Ketchup']\n",
    "canned_conserved = ['Fruits', 'Vegetables', 'Meat', 'Fish', 'Pickled & Canned Salads', 'Olives', 'Appetizers', 'Desserts']\n",
    "soups = ['Clear Soup', 'Tomato Soup', 'Vegetable & Mushroom Soups', 'Grain & Spicy Soup', 'Fish & Meat Soup']\n",
    "spreads = ['Jam', 'Honey', 'Other Sweet Spreads', 'Salty Spreads']\n",
    "muesli_cereals = ['Muesli', 'Breakfast Cereals', 'Other Flakes']\n",
    "\n",
    "# Gathering all headings\n",
    "# Strings in the list indicates the eadings with no sub entries\n",
    "inventories = ['Special Offers', staples, canned_conserved, pasta_warmsauces, dressings_coldsauces, soups, stocks_spices, vinegars_oils, baking_ing, 'Organic Inventories', 'Lactose-free Inventories', 'Gluten-free Inventories', muesli_cereals, spreads]      "
   ]
  },
  {
   "cell_type": "code",
   "execution_count": null,
   "metadata": {},
   "outputs": [],
   "source": [
    "# List of Coop category 'Sweets & Snacks'\n",
    "chocolate_confectionery = ['Chocolate Bars', 'Chocolate Sticks', 'Snacks', 'Chocolate Pralines', 'Caramel', 'Nougat', 'Sweets', 'Chewing Gum']\n",
    "easter_sweets = ['Chocolate Eggs', 'Praline Eggs', 'White Chocolate Bunnies', 'Milk Chocolate Bunnies', 'Dark Chocolate Bunnies', 'Marzipan', 'Sugar', 'Jelly', 'Easter Gifts']\n",
    "cookies_sweetbiscuits = ['Cookies with Chocolate', 'Cookies without Chocolate', 'Cookie Assortments', 'Hüppen', 'Wafers', 'Lackerli', 'Meringues', 'Sweet Bread Rolls', 'Panettone']\n",
    "crisps_snacks = ['Crisps', 'Popcorn', 'Savoury Snacks', 'Breadsticks', 'Salted Nuts', 'Dried Fruit', 'Nuts', 'Cereal Bars']\n",
    "health_sports = ['Superfood', 'Proteins', 'Energy', 'Figureb']\n",
    "\n",
    "# Gathering all headings\n",
    "# Strings in the list indicates the eadings with no sub entries\n",
    "sweets_snacks = ['Special Offers', chocolate_confectionery, easter_sweets, cookies_sweetbiscuits, crisps_snacks, 'Organic Snacks', 'Vegan Snacks', 'Lactose-free Snacks', 'Gluten-free Snacks', health_sports]  "
   ]
  },
  {
   "cell_type": "code",
   "execution_count": null,
   "metadata": {},
   "outputs": [],
   "source": [
    "# List of Coop category 'Frozen'\n",
    "meat_fish = ['Meat', 'Poultry', 'Fish', 'Seafood']\n",
    "ready_made_prod = ['Frozen Pizza', 'Fish Dishes', 'More Frozen Meals', 'Frozen Snacks']\n",
    "fruits_vegtables = ['Fruit', 'Berries', 'Vegetables', 'Potato Products']\n",
    "icecream_desserts = ['Ice Cream Portions', 'Ice Cream in Tubs', 'Desserts']\n",
    "\n",
    "# Gathering all headings\n",
    "# Strings in the list indicates the eadings with no sub entries\n",
    "frozen = ['Special Offers', meat_fish, 'Demeter Organic Meat Packets', ready_made_prod, fruits_vegtables, icecream_desserts, 'Organic Frozen Products', 'Vegan Frozen Products', 'Lactose-free Frozen Products', 'Gluten-free Frozen Products']  "
   ]
  },
  {
   "cell_type": "code",
   "execution_count": null,
   "metadata": {},
   "outputs": [],
   "source": [
    "# List of Coop category 'Ready Made Meals'\n",
    "fresh_ready_made_prod = ['Ready-to-Eat Salads', 'Fresh Pizza', 'Pasta Meals', 'Asian Meals', 'Indian Meals', 'More Freash Ready-Made Meals', 'Side Dishes', 'Antipasti', 'Tofu']\n",
    "frozen_ready_meals = ['Frozen Pizza', 'Fish Dishes', 'More Frozen Meals', 'Frozen Snacks']\n",
    "coserved_ready_made_meals = ['Ravioli', 'Pastagerichte', 'Rice Dishes', 'Noodles Soups']\n",
    "\n",
    "# Gathering all headings\n",
    "# Strings in the list indicates the eadings with no sub entries\n",
    "ready_made_meals = [fresh_ready_made_prod, frozen_ready_meals, coserved_ready_made_meals, 'Organic Ready-made Meals', 'Vegan Ready-made Meals', 'Lactose-free Ready-made Meals', 'Gluten-free Ready-made Meals']"
   ]
  }
 ],
 "metadata": {
  "kernelspec": {
   "display_name": "Python 3 (ipykernel)",
   "language": "python",
   "name": "python3"
  },
  "language_info": {
   "codemirror_mode": {
    "name": "ipython",
    "version": 3
   },
   "file_extension": ".py",
   "mimetype": "text/x-python",
   "name": "python",
   "nbconvert_exporter": "python",
   "pygments_lexer": "ipython3",
   "version": "3.9.7"
  }
 },
 "nbformat": 4,
 "nbformat_minor": 4
}
