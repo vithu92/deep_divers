{
 "cells": [
  {
   "cell_type": "code",
   "execution_count": 1,
   "id": "9a9f3412",
   "metadata": {},
   "outputs": [],
   "source": [
    "import psycopg2\n",
    "import pandas as pd\n",
    "import re\n",
    "import random"
   ]
  },
  {
   "cell_type": "code",
   "execution_count": 2,
   "id": "937abac4",
   "metadata": {},
   "outputs": [],
   "source": [
    "db_name=\"deep_diver_db\"\n",
    "db_endpoint=\"deep-diver-db.cvulnxnfevj3.us-east-1.rds.amazonaws.com\"\n",
    "user=\"deep_diver\"\n",
    "password=\"Amazon2022\""
   ]
  },
  {
   "cell_type": "code",
   "execution_count": 3,
   "id": "6ce50fbc",
   "metadata": {},
   "outputs": [],
   "source": [
    "def get_data(tablename:str,conn=None,):\n",
    "    if not conn:\n",
    "        conn = psycopg2.connect(\n",
    "            host=db_endpoint,\n",
    "            database=db_name,\n",
    "            user=user,\n",
    "            password=password)  \n",
    "    return pd.read_sql(f\"SELECT * FROM {tablename}\", conn)"
   ]
  },
  {
   "cell_type": "code",
   "execution_count": 4,
   "id": "c1bd0de0",
   "metadata": {},
   "outputs": [],
   "source": [
    "def create_top_10_recipes():\n",
    "    df_recipe_trend = get_data(tablename=\"recipe_search_trend\")\n",
    "    df_recipe_trend['date_last7d'] = pd.to_datetime(df_recipe_trend['date_last7d'])\n",
    "    df_recipe_trend = df_recipe_trend.sort_values(by=\"date_last7d\", ascending=False)\n",
    "    df_last_date = df_recipe_trend[(df_recipe_trend['date_last7d'] == max(df_recipe_trend['date_last7d']))]\n",
    "    recipe_search_list = df_last_date.sort_values(by=\"value\", ascending=False).head(10)['query_clean'].tolist()\n",
    "    \n",
    "    df_recipe = get_data(tablename=\"recipes\")\n",
    "    # creating dictionary for each recipe trend word\n",
    "    recipe_book = {}\n",
    "    for index, row in df_recipe.iterrows():\n",
    "        for product in recipe_search_list:\n",
    "            if not product in recipe_book.keys():\n",
    "                recipe_book[product] = []\n",
    "            if product in row['label'] and row['price'] != '0':\n",
    "                recipe_book[product].append(index)\n",
    "\n",
    "    #randomly selecting recipes for each trend word\n",
    "    row_selection = []\n",
    "    for entry in recipe_book.keys():\n",
    "        if len(recipe_book[entry]) != 0:\n",
    "               row_selection.append(random.choices(recipe_book[entry])[0])\n",
    "\n",
    "    while len(row_selection) != 10:\n",
    "        entry = random.choices(list(recipe_book.keys()))[0]\n",
    "        if len(recipe_book[entry]) != 0:\n",
    "            row_selection.append(random.choices(recipe_book[entry])[0])\n",
    "            row_selection = list(dict.fromkeys(row_selection))\n",
    "    df = df_recipe.iloc[row_selection]\n",
    "    return df.reset_index()"
   ]
  },
  {
   "cell_type": "code",
   "execution_count": 5,
   "id": "7a3271b2",
   "metadata": {},
   "outputs": [],
   "source": [
    "def create_top_10_product():\n",
    "    df_product_trend = get_data(tablename=\"product_search_trend\")\n",
    "    df_product_trend['date_last7d'] = pd.to_datetime(df_product_trend['date_last7d'])\n",
    "    df_product_trend = df_product_trend.sort_values(by=\"date_last7d\", ascending=False)\n",
    "    df_last_date = df_product_trend[(df_product_trend['date_last7d'] == max(df_product_trend['date_last7d']))]\n",
    "    product_search_list = df_last_date.sort_values(by=\"value\", ascending=False).head(10)['query_clean'].tolist()\n",
    "\n",
    "    df_recipe = get_data(tablename=\"recipes\")\n",
    "    # creating dictionary for each recipe trend word\n",
    "    product_rows = {}\n",
    "    for index, row in df_recipe.iterrows():\n",
    "        for entry in row['ing_quant']:\n",
    "            for product in product_search_list:\n",
    "                if not product in product_rows.keys():\n",
    "                    product_rows[product] = []\n",
    "                if product in entry:\n",
    "                    product_rows[product].append(index) \n",
    "\n",
    "    #randomly selecting recipes for each trend word\n",
    "    row_selection = []\n",
    "\n",
    "    while len(row_selection) != 10:\n",
    "        entry = random.choices(list(product_rows.keys()))[0]\n",
    "        if len(product_rows[entry]) != 0:\n",
    "            row_selection.append(random.choices(product_rows[entry])[0])\n",
    "            row_selection = list(dict.fromkeys(row_selection))\n",
    "    df = df_recipe.iloc[row_selection]\n",
    "    return df.reset_index()"
   ]
  },
  {
   "cell_type": "code",
   "execution_count": 6,
   "id": "a51d1d43",
   "metadata": {},
   "outputs": [
    {
     "name": "stderr",
     "output_type": "stream",
     "text": [
      "C:\\ProgramData\\Anaconda3\\lib\\site-packages\\pandas\\io\\sql.py:761: UserWarning: pandas only support SQLAlchemy connectable(engine/connection) ordatabase string URI or sqlite3 DBAPI2 connectionother DBAPI2 objects are not tested, please consider using SQLAlchemy\n",
      "  warnings.warn(\n",
      "C:\\ProgramData\\Anaconda3\\lib\\site-packages\\pandas\\io\\sql.py:761: UserWarning: pandas only support SQLAlchemy connectable(engine/connection) ordatabase string URI or sqlite3 DBAPI2 connectionother DBAPI2 objects are not tested, please consider using SQLAlchemy\n",
      "  warnings.warn(\n"
     ]
    }
   ],
   "source": [
    "# 10 top product\n",
    "from sqlalchemy import create_engine, inspect\n",
    "df = create_top_10_product()\n",
    "engine = create_engine(\n",
    "        f'postgresql://{user}:{password}@{db_endpoint}:5432/{db_name}')\n",
    "with engine.connect() as conn:\n",
    "    df.to_sql(name=\"top_product_trend\", con=conn, if_exists='replace', index=True)"
   ]
  },
  {
   "cell_type": "code",
   "execution_count": 8,
   "id": "c2ea5cf4",
   "metadata": {},
   "outputs": [
    {
     "name": "stderr",
     "output_type": "stream",
     "text": [
      "C:\\ProgramData\\Anaconda3\\lib\\site-packages\\pandas\\io\\sql.py:761: UserWarning: pandas only support SQLAlchemy connectable(engine/connection) ordatabase string URI or sqlite3 DBAPI2 connectionother DBAPI2 objects are not tested, please consider using SQLAlchemy\n",
      "  warnings.warn(\n",
      "C:\\ProgramData\\Anaconda3\\lib\\site-packages\\pandas\\io\\sql.py:761: UserWarning: pandas only support SQLAlchemy connectable(engine/connection) ordatabase string URI or sqlite3 DBAPI2 connectionother DBAPI2 objects are not tested, please consider using SQLAlchemy\n",
      "  warnings.warn(\n"
     ]
    }
   ],
   "source": [
    "# 10 recipe product\n",
    "from sqlalchemy import create_engine, inspect\n",
    "df = create_top_10_recipes()\n",
    "engine = create_engine(\n",
    "        f'postgresql://{user}:{password}@{db_endpoint}:5432/{db_name}')\n",
    "with engine.connect() as conn:\n",
    "    df.to_sql(name=\"top_recipe_trend\", con=conn, if_exists='replace', index=True)"
   ]
  },
  {
   "cell_type": "code",
   "execution_count": 6,
   "id": "e056eedb",
   "metadata": {},
   "outputs": [],
   "source": [
    "def formating_dataframe_by_colum(df:pd.DataFrame, column:str):\n",
    "    for index, row in df.iterrows():\n",
    "        entry = row[column]\n",
    "        if \"{\" in row[column]:\n",
    "            entry = row[column][1:-1]\n",
    "        entry = entry.strip('\\\"')\n",
    "        df.at[index,column] = entry\n",
    "    \n",
    "    return df"
   ]
  },
  {
   "cell_type": "code",
   "execution_count": 254,
   "id": "22a6ce6c",
   "metadata": {},
   "outputs": [],
   "source": [
    "from sqlalchemy import create_engine, inspect\n",
    "#df = create_top_10_product()\n",
    "engine = create_engine(\n",
    "        f'postgresql://{user}:{password}@{db_endpoint}:5432/{db_name}')\n",
    "with engine.connect() as conn:\n",
    "    df_recipe.to_sql(name=\"recipes\", con=conn, if_exists='replace', index=False)"
   ]
  },
  {
   "cell_type": "code",
   "execution_count": null,
   "id": "7c6735a8",
   "metadata": {},
   "outputs": [],
   "source": [
    "df_recipe = formating_dataframe_by_colum(df_recipe, column=\"meal_type\")\n",
    "df_recipe = formating_dataframe_by_colum(df_recipe, column=\"dish_type\")\n",
    "df_recipe"
   ]
  },
  {
   "cell_type": "code",
   "execution_count": 7,
   "id": "382b84cb",
   "metadata": {},
   "outputs": [],
   "source": [
    "df_product = pd.read_csv(\"DWL1/Code_Submission/deep_divers/Coop/master_csv.csv\")"
   ]
  },
  {
   "cell_type": "code",
   "execution_count": 8,
   "id": "a1509571",
   "metadata": {},
   "outputs": [
    {
     "data": {
      "text/plain": [
       "Unnamed: 0                                                     806\n",
       "title                                        Cherry Yogurts 2x180g\n",
       "href             /en/food/dairy-products-eggs/yogurt/flavoured-...\n",
       "quantity                                                   2x 180g\n",
       "rating                                                         5.0\n",
       "price                                                          1.2\n",
       "oldPrice                                                       NaN\n",
       "savingText                                                     NaN\n",
       "category_1                                     dairy-products-eggs\n",
       "category_2                                                  yogurt\n",
       "category_3                                        flavoured-yogurt\n",
       "price per 100                                                  NaN\n",
       "Name: 806, dtype: object"
      ]
     },
     "execution_count": 8,
     "metadata": {},
     "output_type": "execute_result"
    }
   ],
   "source": [
    "df_product.iloc[806]"
   ]
  },
  {
   "cell_type": "code",
   "execution_count": 9,
   "id": "b9e0fbfa",
   "metadata": {},
   "outputs": [],
   "source": [
    "def unifying_unit(df:pd.DataFrame, unit:str, new_unit:str,calculator=int):\n",
    "\n",
    "    for index, row in df.iterrows():\n",
    "        if isinstance(row['quantity'],str):\n",
    "            if re.search(r'\\d+'+unit, row['quantity']):\n",
    "                if \"x\" not in row['quantity']:\n",
    "                    old_value = row['quantity']\n",
    "                    new_value = int(float(old_value.split(unit)[0])*calculator)\n",
    "                    df.at[index, 'quantity'] = f\"{new_value} {new_unit}\"\n",
    "    return df"
   ]
  },
  {
   "cell_type": "code",
   "execution_count": 124,
   "id": "a2e54dbe",
   "metadata": {},
   "outputs": [],
   "source": [
    "df_product = unifying_unit(df=df_product, unit=\"kg\", new_unit=\"g\", calculator=1000)\n",
    "df_product = unifying_unit(df=df_product, unit=\"l\", new_unit=\"ml\", calculator=1000)\n",
    "df_product = unifying_unit(df=df_product, unit=\"dl\", new_unit=\"ml\", calculator=100)\n",
    "df_product = unifying_unit(df=df_product, unit=\"cl\", new_unit=\"ml\", calculator=10)"
   ]
  },
  {
   "cell_type": "code",
   "execution_count": 24,
   "id": "4e9cd4e3",
   "metadata": {},
   "outputs": [],
   "source": [
    "def price_per_unit(df:pd.DataFrame,unit:str, calculator:int=100):\n",
    "    for index, row in df.iterrows():\n",
    "        if isinstance(row['quantity'],str):\n",
    "            if re.search(r'\\d+'+unit, row['quantity']):\n",
    "                if \"x\" not in row['quantity']:\n",
    "                    value_no_unit = int(float(row['quantity'].split(unit)[0]))\n",
    "                    price_float = float(row['price'])\n",
    "                    if value_no_unit != 0:\n",
    "                        new_value = (price_float/value_no_unit)*calculator\n",
    "                        df.at[index,'price per 100'] = round(new_value,2)\n",
    "    return df"
   ]
  },
  {
   "cell_type": "markdown",
   "id": "46511961",
   "metadata": {},
   "source": [
    "## Recipe based on diet and product trend"
   ]
  },
  {
   "cell_type": "code",
   "execution_count": 17,
   "id": "2012adde",
   "metadata": {},
   "outputs": [],
   "source": [
    "def get_trend_recipes():\n",
    "    # diet trend\n",
    "    df_diet_trend = get_data(tablename=\"diet_search_trend\")\n",
    "    df_diet_trend['date_last7d'] = pd.to_datetime(df_diet_trend['date_last7d'])\n",
    "    df_diet_trend = df_diet_trend.sort_values(by=\"date_last7d\", ascending=False)\n",
    "    df_diet_trend_last_date = df_diet_trend[(df_diet_trend['date_last7d'] == max(df_diet_trend['date_last7d']))]\n",
    "    diet_trend_list = df_diet_trend_last_date.sort_values(by=\"value\", ascending=False)['diet_category'].tolist()\n",
    "    if 'keto' in diet_trend_list:\n",
    "        diet_trend_list.append(\"keto-friendly\")\n",
    "    \n",
    "    # recipe trend\n",
    "    df_recipe_trend = get_data(tablename=\"recipe_search_trend\")\n",
    "    df_recipe_trend['date_last7d'] = pd.to_datetime(df_recipe_trend['date_last7d'])\n",
    "    df_recipe_trend = df_recipe_trend.sort_values(by=\"date_last7d\", ascending=False)\n",
    "    df_last_date = df_recipe_trend[(df_recipe_trend['date_last7d'] == max(df_recipe_trend['date_last7d']))]\n",
    "    recipe_search_list = df_last_date.sort_values(by=\"value\", ascending=False)['query_clean'].tolist()\n",
    "    \n",
    "    # product trend\n",
    "    df_product_trend = get_data(tablename=\"product_search_trend\")\n",
    "    df_product_trend['date_last7d'] = pd.to_datetime(df_product_trend['date_last7d'])\n",
    "    df_product_trend = df_product_trend.sort_values(by=\"date_last7d\", ascending=False)\n",
    "    df_last_date = df_product_trend[(df_product_trend['date_last7d'] == max(df_product_trend['date_last7d']))]\n",
    "    product_search_list = df_last_date.sort_values(by=\"value\", ascending=False)['query_clean'].tolist()\n",
    "    \n",
    "    df_recipe = get_data(tablename=\"recipes\")\n",
    "    recipe_list= []\n",
    "    for index, row in df_recipe.iterrows():\n",
    "        if row['price'] != \"0\":\n",
    "            # diet trend\n",
    "            if \"{\" in row['health_labels']:\n",
    "                diet_value = row['health_labels'][1:-1].lower()\n",
    "                diet_value_list = diet_value.split(\",\")\n",
    "                for diet in diet_value_list:\n",
    "                    if diet in diet_trend_list:\n",
    "                        recipe_list.append(index)\n",
    "\n",
    "            # recipe trend\n",
    "            for recipe in recipe_search_list:\n",
    "                if recipe in row['label']:\n",
    "                    recipe_list.append(index)\n",
    "\n",
    "            # product trend\n",
    "            for entry in row['ing_quant']:\n",
    "                for product in product_search_list:\n",
    "                    if product in entry:\n",
    "                        recipe_list.append(index)\n",
    "\n",
    "    final_list = list(dict.fromkeys(recipe_list))\n",
    "    \n",
    "    df = df_recipe.iloc[final_list]\n",
    "    return df.reset_index()"
   ]
  },
  {
   "cell_type": "code",
   "execution_count": 10,
   "id": "98d059fd",
   "metadata": {},
   "outputs": [],
   "source": [
    "df = get_trend_recipes()"
   ]
  },
  {
   "cell_type": "code",
   "execution_count": 18,
   "id": "654b60ed",
   "metadata": {},
   "outputs": [],
   "source": [
    "# upload_ recipes lists\n",
    "from sqlalchemy import create_engine, inspect\n",
    "df = get_trend_recipes()\n",
    "df = df.sample(frac = 1)\n",
    "engine = create_engine(\n",
    "        f'postgresql://{user}:{password}@{db_endpoint}:5432/{db_name}')\n",
    "with engine.connect() as conn:\n",
    "    df.to_sql(name=\"recipes_trend\", con=conn, if_exists='replace', index=True)"
   ]
  },
  {
   "cell_type": "markdown",
   "id": "a094bf83-9f1c-4a96-a44c-c8ab3f894196",
   "metadata": {},
   "source": [
    "### Reproduce Product transformation"
   ]
  },
  {
   "cell_type": "code",
   "execution_count": 5,
   "id": "c4dd5001-f9f9-4f53-b4bf-b81a94e4828a",
   "metadata": {},
   "outputs": [],
   "source": [
    "df_product = pd.read_csv(\"DWL1/Code_Submission/deep_divers/Coop/master_csv.csv\")"
   ]
  },
  {
   "cell_type": "code",
   "execution_count": 8,
   "id": "a46a6ca0-3f3b-46d5-8a2b-3361b3f349f1",
   "metadata": {},
   "outputs": [],
   "source": [
    "df_test = df_product.loc[:, df_product.columns!='href']"
   ]
  },
  {
   "cell_type": "code",
   "execution_count": 12,
   "id": "1efb90cf-0964-43e5-a098-382b29540238",
   "metadata": {},
   "outputs": [
    {
     "name": "stderr",
     "output_type": "stream",
     "text": [
      "C:\\Users\\taamavik\\AppData\\Local\\Temp\\ipykernel_2180\\139541052.py:1: SettingWithCopyWarning: \n",
      "A value is trying to be set on a copy of a slice from a DataFrame\n",
      "\n",
      "See the caveats in the documentation: https://pandas.pydata.org/pandas-docs/stable/user_guide/indexing.html#returning-a-view-versus-a-copy\n",
      "  df_test.iloc[0]['quantity'] = \"1 kg\"\n"
     ]
    }
   ],
   "source": [
    "df_test.iloc[0]['quantity'] = \"1 kg\""
   ]
  },
  {
   "cell_type": "code",
   "execution_count": 16,
   "id": "26e73d88-1842-4eee-a19f-a6ce628c2366",
   "metadata": {},
   "outputs": [],
   "source": [
    "df_test.at[1,\"quantity\"] = \"1 kg\""
   ]
  },
  {
   "cell_type": "code",
   "execution_count": 29,
   "id": "668a3d97-78dd-4792-b560-28b800041a69",
   "metadata": {},
   "outputs": [
    {
     "data": {
      "text/html": [
       "<div>\n",
       "<style scoped>\n",
       "    .dataframe tbody tr th:only-of-type {\n",
       "        vertical-align: middle;\n",
       "    }\n",
       "\n",
       "    .dataframe tbody tr th {\n",
       "        vertical-align: top;\n",
       "    }\n",
       "\n",
       "    .dataframe thead th {\n",
       "        text-align: right;\n",
       "    }\n",
       "</style>\n",
       "<table border=\"1\" class=\"dataframe\">\n",
       "  <thead>\n",
       "    <tr style=\"text-align: right;\">\n",
       "      <th></th>\n",
       "      <th>title</th>\n",
       "      <th>quantity</th>\n",
       "      <th>rating</th>\n",
       "      <th>price</th>\n",
       "      <th>price per 100</th>\n",
       "    </tr>\n",
       "  </thead>\n",
       "  <tbody>\n",
       "    <tr>\n",
       "      <th>0</th>\n",
       "      <td>Abate Fetel pears ca. 1kg</td>\n",
       "      <td>1000 g</td>\n",
       "      <td>5.0</td>\n",
       "      <td>4.20</td>\n",
       "      <td>0.42</td>\n",
       "    </tr>\n",
       "    <tr>\n",
       "      <th>1</th>\n",
       "      <td>Äpfel Envy I ca. 1kg</td>\n",
       "      <td>1000 g</td>\n",
       "      <td>5.0</td>\n",
       "      <td>4.95</td>\n",
       "      <td>0.50</td>\n",
       "    </tr>\n",
       "    <tr>\n",
       "      <th>2</th>\n",
       "      <td>Äpfel Gala</td>\n",
       "      <td>750g</td>\n",
       "      <td>5.0</td>\n",
       "      <td>2.70</td>\n",
       "      <td>0.36</td>\n",
       "    </tr>\n",
       "    <tr>\n",
       "      <th>3</th>\n",
       "      <td>Apricot ca. 500g</td>\n",
       "      <td>500g</td>\n",
       "      <td>2.5</td>\n",
       "      <td>3.75</td>\n",
       "      <td>0.75</td>\n",
       "    </tr>\n",
       "    <tr>\n",
       "      <th>4</th>\n",
       "      <td>Betty Bossi Cubed Watermelon</td>\n",
       "      <td>250g</td>\n",
       "      <td>0.0</td>\n",
       "      <td>3.95</td>\n",
       "      <td>1.58</td>\n",
       "    </tr>\n",
       "    <tr>\n",
       "      <th>...</th>\n",
       "      <td>...</td>\n",
       "      <td>...</td>\n",
       "      <td>...</td>\n",
       "      <td>...</td>\n",
       "      <td>...</td>\n",
       "    </tr>\n",
       "    <tr>\n",
       "      <th>8265</th>\n",
       "      <td>Ravioli Alla Napoletana</td>\n",
       "      <td>870g</td>\n",
       "      <td>4.5</td>\n",
       "      <td>3.20</td>\n",
       "      <td>0.37</td>\n",
       "    </tr>\n",
       "    <tr>\n",
       "      <th>8266</th>\n",
       "      <td>Saitaku Miso Soup 4 Pieces</td>\n",
       "      <td>4PCE</td>\n",
       "      <td>5.0</td>\n",
       "      <td>3.70</td>\n",
       "      <td>0.93</td>\n",
       "    </tr>\n",
       "    <tr>\n",
       "      <th>8267</th>\n",
       "      <td>Thai Kitchen Tom Kha Soup Bowl</td>\n",
       "      <td>70g</td>\n",
       "      <td>3.5</td>\n",
       "      <td>3.10</td>\n",
       "      <td>4.43</td>\n",
       "    </tr>\n",
       "    <tr>\n",
       "      <th>8268</th>\n",
       "      <td>Thai Kitchen Tom Yum Soup Bowl</td>\n",
       "      <td>75g</td>\n",
       "      <td>3.5</td>\n",
       "      <td>3.10</td>\n",
       "      <td>4.13</td>\n",
       "    </tr>\n",
       "    <tr>\n",
       "      <th>8269</th>\n",
       "      <td>Zenbu Instant Miso Soup 4-pack</td>\n",
       "      <td>75g</td>\n",
       "      <td>5.0</td>\n",
       "      <td>3.75</td>\n",
       "      <td>5.00</td>\n",
       "    </tr>\n",
       "  </tbody>\n",
       "</table>\n",
       "<p>8270 rows × 5 columns</p>\n",
       "</div>"
      ],
      "text/plain": [
       "                               title quantity  rating  price  price per 100\n",
       "0          Abate Fetel pears ca. 1kg   1000 g     5.0   4.20           0.42\n",
       "1               Äpfel Envy I ca. 1kg   1000 g     5.0   4.95           0.50\n",
       "2                         Äpfel Gala     750g     5.0   2.70           0.36\n",
       "3                   Apricot ca. 500g     500g     2.5   3.75           0.75\n",
       "4       Betty Bossi Cubed Watermelon     250g     0.0   3.95           1.58\n",
       "...                              ...      ...     ...    ...            ...\n",
       "8265         Ravioli Alla Napoletana     870g     4.5   3.20           0.37\n",
       "8266      Saitaku Miso Soup 4 Pieces     4PCE     5.0   3.70           0.93\n",
       "8267  Thai Kitchen Tom Kha Soup Bowl      70g     3.5   3.10           4.43\n",
       "8268  Thai Kitchen Tom Yum Soup Bowl      75g     3.5   3.10           4.13\n",
       "8269  Zenbu Instant Miso Soup 4-pack      75g     5.0   3.75           5.00\n",
       "\n",
       "[8270 rows x 5 columns]"
      ]
     },
     "execution_count": 29,
     "metadata": {},
     "output_type": "execute_result"
    }
   ],
   "source": [
    "df_product.iloc[:,~df_product.columns.isin([\"href\",\"oldPrice\",\"savingText\",\"category_1\",\"category_2\",\"category_3\"])]"
   ]
  },
  {
   "cell_type": "code",
   "execution_count": null,
   "id": "7b46752c-3300-437e-aa12-cd5bb47472fb",
   "metadata": {},
   "outputs": [],
   "source": []
  }
 ],
 "metadata": {
  "kernelspec": {
   "display_name": "Python 3 (ipykernel)",
   "language": "python",
   "name": "python3"
  },
  "language_info": {
   "codemirror_mode": {
    "name": "ipython",
    "version": 3
   },
   "file_extension": ".py",
   "mimetype": "text/x-python",
   "name": "python",
   "nbconvert_exporter": "python",
   "pygments_lexer": "ipython3",
   "version": "3.9.12"
  }
 },
 "nbformat": 4,
 "nbformat_minor": 5
}
